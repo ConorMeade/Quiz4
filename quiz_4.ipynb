{
 "cells": [
  {
   "cell_type": "markdown",
   "metadata": {},
   "source": [
    "## Quiz 4: Hadoop for Fun and Profit \n",
    "Conor Meade\\\n",
    "CS 119"
   ]
  },
  {
   "cell_type": "code",
   "execution_count": 31,
   "metadata": {},
   "outputs": [],
   "source": [
    "import functools\n",
    "import sys"
   ]
  },
  {
   "cell_type": "markdown",
   "metadata": {},
   "source": [
    "### 1. Functional Programming [25 points]"
   ]
  },
  {
   "cell_type": "markdown",
   "metadata": {},
   "source": [
    "### (1.1) add(), sub(), and ra_sub()"
   ]
  },
  {
   "cell_type": "code",
   "execution_count": 49,
   "metadata": {},
   "outputs": [
    {
     "name": "stdout",
     "output_type": "stream",
     "text": [
      "101\n",
      "33\n",
      "6\n",
      "2\n",
      "6\n",
      "5\n",
      "8\n"
     ]
    }
   ],
   "source": [
    "def add(*num_list):\n",
    "    sum = (functools.reduce(lambda x, y: x+y, num_list))\n",
    "    return sum\n",
    "\n",
    "print(add(1, 55, 45))\n",
    "print(add(0, 1, 1, 2, 3, 5, 8, 13))\n",
    "print(add(1, 2, 3))\n",
    "\n",
    "def sub(*num_list):\n",
    "    difference = (functools.reduce(lambda x, y: x-y, num_list))\n",
    "    return difference\n",
    "\n",
    "print(sub(5,1,2))\n",
    "\n",
    "def ra_sub(*num_list):\n",
    "    difference = (functools.reduce(lambda x, y: y - x, reversed(num_list)))\n",
    "    return difference\n",
    "\n",
    "print(ra_sub(5, 1, 2))\n",
    "print(ra_sub(5))\n",
    "print(ra_sub(5, 1, 2, 4, 6))"
   ]
  },
  {
   "cell_type": "markdown",
   "metadata": {},
   "source": [
    "### (1.2) zip()"
   ]
  },
  {
   "cell_type": "code",
   "execution_count": 40,
   "metadata": {},
   "outputs": [
    {
     "name": "stdout",
     "output_type": "stream",
     "text": [
      "[[1, 2]]\n",
      "[[1, 4], [2, 5], [3, 6]]\n",
      "[[1, 4, 7], [2, 5, 8], [3, 6, 9]]\n"
     ]
    }
   ],
   "source": [
    "def zip(*num_sequences):\n",
    "    zipped_lists = [list(map(lambda s: s[i], num_sequences)) for i in range(len(num_sequences[0]))]\n",
    "    return zipped_lists\n",
    "\n",
    "print(zip([1], [2]))\n",
    "print(zip([1, 2, 3], [4, 5, 6]))\n",
    "print(zip([1, 2, 3], [4, 5, 6], [7, 8, 9]))"
   ]
  },
  {
   "cell_type": "markdown",
   "metadata": {},
   "source": [
    "### (1.3) zipwith"
   ]
  },
  {
   "cell_type": "code",
   "execution_count": 53,
   "metadata": {},
   "outputs": [
    {
     "name": "stdout",
     "output_type": "stream",
     "text": [
      "[5, 7, 9]\n",
      "[6, 8, 10]\n",
      "[-4, -4, -4]\n"
     ]
    }
   ],
   "source": [
    "def zipwith(func, *num_sequences):\n",
    "    result = list(map(lambda *args: func(*args), *num_sequences))\n",
    "    return result\n",
    "\n",
    "print(zipwith(add, [1, 2, 3], [4, 5, 6]))  # [5, 7, 9]\n",
    "print(zipwith(add, [1, 2, 3], [4, 5, 6], [1, 1, 1]))\n",
    "print(zipwith(sub, [1, 2, 3], [4, 5, 6], [1, 1, 1]))"
   ]
  },
  {
   "cell_type": "markdown",
   "metadata": {},
   "source": [
    "### (1.4) flatten()"
   ]
  },
  {
   "cell_type": "code",
   "execution_count": null,
   "metadata": {},
   "outputs": [],
   "source": [
    "def flatten(*args):\n",
    "    pass"
   ]
  },
  {
   "cell_type": "markdown",
   "metadata": {},
   "source": [
    "### (1.5) group_by()"
   ]
  },
  {
   "cell_type": "code",
   "execution_count": null,
   "metadata": {},
   "outputs": [],
   "source": [
    "def group_by(func, *num_sequences):\n",
    "    pass"
   ]
  }
 ],
 "metadata": {
  "kernelspec": {
   "display_name": "Python 3",
   "language": "python",
   "name": "python3"
  },
  "language_info": {
   "codemirror_mode": {
    "name": "ipython",
    "version": 3
   },
   "file_extension": ".py",
   "mimetype": "text/x-python",
   "name": "python",
   "nbconvert_exporter": "python",
   "pygments_lexer": "ipython3",
   "version": "3.8.8"
  }
 },
 "nbformat": 4,
 "nbformat_minor": 2
}
